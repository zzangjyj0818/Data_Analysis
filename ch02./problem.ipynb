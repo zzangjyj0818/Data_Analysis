{
 "cells": [
  {
   "cell_type": "code",
   "execution_count": 2,
   "metadata": {},
   "outputs": [],
   "source": [
    "# -*- coding: utf-8 -*-\n",
    "\n",
    "import pandas as pd\n",
    "import numpy as np\n",
    "import matplotlib.pyplot as plt\n",
    "\n",
    "file_path = \"../data/drinks.csv\"\n",
    "drinks = pd.read_csv(file_path)\n",
    "\n",
    "# 결측치 대체\n",
    "drinks['continent'] = drinks['continent'].fillna('OT')"
   ]
  },
  {
   "cell_type": "code",
   "execution_count": 15,
   "metadata": {},
   "outputs": [
    {
     "data": {
      "text/html": [
       "<div>\n",
       "<style scoped>\n",
       "    .dataframe tbody tr th:only-of-type {\n",
       "        vertical-align: middle;\n",
       "    }\n",
       "\n",
       "    .dataframe tbody tr th {\n",
       "        vertical-align: top;\n",
       "    }\n",
       "\n",
       "    .dataframe thead th {\n",
       "        text-align: right;\n",
       "    }\n",
       "</style>\n",
       "<table border=\"1\" class=\"dataframe\">\n",
       "  <thead>\n",
       "    <tr style=\"text-align: right;\">\n",
       "      <th></th>\n",
       "      <th>country</th>\n",
       "      <th>continent</th>\n",
       "      <th>wine_servings_cont_avg</th>\n",
       "    </tr>\n",
       "  </thead>\n",
       "  <tbody>\n",
       "    <tr>\n",
       "      <th>123</th>\n",
       "      <td>Malta</td>\n",
       "      <td>EU</td>\n",
       "      <td>NaN</td>\n",
       "    </tr>\n",
       "    <tr>\n",
       "      <th>95</th>\n",
       "      <td>Vietnam</td>\n",
       "      <td>AS</td>\n",
       "      <td>NaN</td>\n",
       "    </tr>\n",
       "    <tr>\n",
       "      <th>130</th>\n",
       "      <td>Moldova</td>\n",
       "      <td>EU</td>\n",
       "      <td>NaN</td>\n",
       "    </tr>\n",
       "    <tr>\n",
       "      <th>178</th>\n",
       "      <td>St. Vincent &amp; the Grenadines</td>\n",
       "      <td>OT</td>\n",
       "      <td>NaN</td>\n",
       "    </tr>\n",
       "    <tr>\n",
       "      <th>83</th>\n",
       "      <td>Russian Federation</td>\n",
       "      <td>AS</td>\n",
       "      <td>NaN</td>\n",
       "    </tr>\n",
       "  </tbody>\n",
       "</table>\n",
       "</div>"
      ],
      "text/plain": [
       "                          country continent  wine_servings_cont_avg\n",
       "123                         Malta        EU                     NaN\n",
       "95                        Vietnam        AS                     NaN\n",
       "130                       Moldova        EU                     NaN\n",
       "178  St. Vincent & the Grenadines        OT                     NaN\n",
       "83             Russian Federation        AS                     NaN"
      ]
     },
     "execution_count": 15,
     "metadata": {},
     "output_type": "execute_result"
    }
   ],
   "source": [
    "# 대륙별 평균 wine_serving 탐색\n",
    "drinks[\"wine_servings_cont_avg\"] = drinks.groupby(\"continent\")[\"wine_servings\"].mean()\n",
    "drinks[[\"country\", \"continent\", \"wine_servings_cont_avg\"]].sample(5).head()"
   ]
  },
  {
   "cell_type": "code",
   "execution_count": 17,
   "metadata": {},
   "outputs": [
    {
     "name": "stdout",
     "output_type": "stream",
     "text": [
      "0       39\n",
      "1      319\n",
      "2       51\n",
      "3      243\n",
      "4       39\n",
      "      ... \n",
      "188    404\n",
      "189    344\n",
      "190    313\n",
      "191    370\n",
      "192    436\n",
      "Name: total_servings, Length: 193, dtype: int64\n"
     ]
    }
   ],
   "source": [
    "drinks['total_servings'] = drinks['beer_servings'] + drinks['spirit_servings'] + drinks['wine_servings']\n",
    "print(drinks['total_servings'])"
   ]
  },
  {
   "cell_type": "code",
   "execution_count": 19,
   "metadata": {},
   "outputs": [
    {
     "data": {
      "text/plain": [
       "'Russian Federation'"
      ]
     },
     "execution_count": 19,
     "metadata": {},
     "output_type": "execute_result"
    }
   ],
   "source": [
    "# 전체 평균보다 적은 알코올을 섭취하는 대륙 구하기\n",
    "total_mean = drinks.total_litres_of_pure_alcohol.mean()\n",
    "continent_mean = drinks.groupby(\"continent\")[\"total_litres_of_pure_alcohol\"].mean()\n",
    "continent_under_mean = continent_mean[continent_mean <= total_mean].index.tolist()\n",
    "df_continent_under_mean = drinks.loc[drinks.continent.isin(continent_under_mean)]\n",
    "\n",
    "most_spirit_under_mean = df_continent_under_mean.loc[\n",
    "    df_continent_under_mean[\"spirit_servings\"].idxmax()\n",
    "]\n",
    "# 결과를 출력합니다.\n",
    "most_spirit_under_mean[\"country\"]"
   ]
  },
  {
   "cell_type": "code",
   "execution_count": 20,
   "metadata": {},
   "outputs": [
    {
     "name": "stdout",
     "output_type": "stream",
     "text": [
      "0      0.017949\n",
      "1      0.018495\n",
      "2      0.021569\n",
      "3      0.022222\n",
      "4      0.110256\n",
      "         ...   \n",
      "188    0.018069\n",
      "189    0.017733\n",
      "190    0.017891\n",
      "191    0.017838\n",
      "192    0.017661\n",
      "Name: alcohol_rate, Length: 193, dtype: float64\n"
     ]
    }
   ],
   "source": [
    "# 술 소비량 대비 알코올 비율\n",
    "# 술 소비량 대비 알콜 비율에 대한 칼럼을 만들어서 병합합니다.\n",
    "drinks[\"alcohol_rate\"] = (\n",
    "    drinks[\"total_litres_of_pure_alcohol\"] / drinks[\"total_servings\"]\n",
    ")\n",
    "drinks[\"alcohol_rate\"] = drinks[\"alcohol_rate\"].fillna(0)\n",
    "\n",
    "print(drinks[\"alcohol_rate\"])"
   ]
  },
  {
   "cell_type": "code",
   "execution_count": 24,
   "metadata": {},
   "outputs": [
    {
     "data": {
      "text/html": [
       "<div>\n",
       "<style scoped>\n",
       "    .dataframe tbody tr th:only-of-type {\n",
       "        vertical-align: middle;\n",
       "    }\n",
       "\n",
       "    .dataframe tbody tr th {\n",
       "        vertical-align: top;\n",
       "    }\n",
       "\n",
       "    .dataframe thead th {\n",
       "        text-align: right;\n",
       "    }\n",
       "</style>\n",
       "<table border=\"1\" class=\"dataframe\">\n",
       "  <thead>\n",
       "    <tr style=\"text-align: right;\">\n",
       "      <th></th>\n",
       "      <th>country</th>\n",
       "      <th>continent</th>\n",
       "      <th>alcohol_rate_continent</th>\n",
       "    </tr>\n",
       "  </thead>\n",
       "  <tbody>\n",
       "    <tr>\n",
       "      <th>76</th>\n",
       "      <td>Myanmar</td>\n",
       "      <td>AS</td>\n",
       "      <td>0.020293</td>\n",
       "    </tr>\n",
       "    <tr>\n",
       "      <th>60</th>\n",
       "      <td>North Korea</td>\n",
       "      <td>AS</td>\n",
       "      <td>0.020293</td>\n",
       "    </tr>\n",
       "    <tr>\n",
       "      <th>192</th>\n",
       "      <td>Venezuela</td>\n",
       "      <td>SA</td>\n",
       "      <td>0.017909</td>\n",
       "    </tr>\n",
       "    <tr>\n",
       "      <th>11</th>\n",
       "      <td>Comoros</td>\n",
       "      <td>AF</td>\n",
       "      <td>0.031970</td>\n",
       "    </tr>\n",
       "    <tr>\n",
       "      <th>9</th>\n",
       "      <td>Central African Republic</td>\n",
       "      <td>AF</td>\n",
       "      <td>0.031970</td>\n",
       "    </tr>\n",
       "  </tbody>\n",
       "</table>\n",
       "</div>"
      ],
      "text/plain": [
       "                      country continent  alcohol_rate_continent\n",
       "76                    Myanmar        AS                0.020293\n",
       "60                North Korea        AS                0.020293\n",
       "192                 Venezuela        SA                0.017909\n",
       "11                    Comoros        AF                0.031970\n",
       "9    Central African Republic        AF                0.031970"
      ]
     },
     "execution_count": 24,
     "metadata": {},
     "output_type": "execute_result"
    }
   ],
   "source": [
    "# 대륙별 술 소비량 대비 알콜 비율.\n",
    "continent_sum = drinks.groupby(\"continent\").sum()\n",
    "continent_sum[\"alcohol_rate_continent\"] = (\n",
    "    continent_sum[\"total_litres_of_pure_alcohol\"] / continent_sum[\"total_servings\"]\n",
    ")\n",
    "continent_sum = continent_sum.reset_index()\n",
    "continent_sum = continent_sum[[\"continent\", \"alcohol_rate_continent\"]]\n",
    "\n",
    "drinks = pd.merge(drinks, continent_sum, on=\"continent\", how=\"outer\")\n",
    "drinks[[\"country\", \"continent\", \"alcohol_rate_continent\"]].sample(5).head()"
   ]
  },
  {
   "cell_type": "code",
   "execution_count": null,
   "metadata": {},
   "outputs": [],
   "source": []
  }
 ],
 "metadata": {
  "kernelspec": {
   "display_name": "Python 3",
   "language": "python",
   "name": "python3"
  },
  "language_info": {
   "codemirror_mode": {
    "name": "ipython",
    "version": 3
   },
   "file_extension": ".py",
   "mimetype": "text/x-python",
   "name": "python",
   "nbconvert_exporter": "python",
   "pygments_lexer": "ipython3",
   "version": "3.11.9"
  }
 },
 "nbformat": 4,
 "nbformat_minor": 2
}
